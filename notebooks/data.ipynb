{
 "cells": [
  {
   "cell_type": "markdown",
   "metadata": {},
   "source": [
    "# Graph data"
   ]
  },
  {
   "cell_type": "code",
   "execution_count": null,
   "metadata": {},
   "outputs": [],
   "source": [
    "%load_ext autoreload\n",
    "%autoreload 2\n",
    "%matplotlib inline\n",
    "\n",
    "import sys\n",
    "sys.path.append('..')"
   ]
  },
  {
   "cell_type": "code",
   "execution_count": null,
   "metadata": {},
   "outputs": [],
   "source": [
    "import matplotlib.pyplot as plt\n",
    "import networkx as nx\n",
    "import torch\n",
    "from torch_geometric import datasets\n",
    "from torch_geometric.data import Data\n",
    "from torch_geometric.utils import to_dense_adj, to_networkx"
   ]
  },
  {
   "cell_type": "markdown",
   "metadata": {},
   "source": [
    "## Simple graph\n",
    "\n",
    "<img src=\"https://pytorch-geometric.readthedocs.io/en/latest/_images/graph.svg\" alt=\"A simple graph is shown\" title=\"Simple graph\" style=\"background-color: white\">"
   ]
  },
  {
   "cell_type": "code",
   "execution_count": null,
   "metadata": {},
   "outputs": [],
   "source": [
    "# create graph connectivity\n",
    "edge_index = torch.tensor(\n",
    "    [[0, 1, 1, 2],\n",
    "     [1, 0, 2, 1]],\n",
    "     dtype=torch.int64\n",
    ")\n",
    "\n",
    "# create node features\n",
    "x = torch.tensor(\n",
    "    [[-1],\n",
    "     [0],\n",
    "     [1]\n",
    "    ],\n",
    "    dtype=torch.float32\n",
    ")\n",
    "\n",
    "# create graph data object\n",
    "data = Data(x=x, edge_index=edge_index)"
   ]
  },
  {
   "cell_type": "code",
   "execution_count": null,
   "metadata": {},
   "outputs": [],
   "source": [
    "# print adjacency matrix\n",
    "adjacency_mat = to_dense_adj(data.edge_index)\n",
    "adjacency_mat = adjacency_mat[0].int()\n",
    "\n",
    "print(adjacency_mat)"
   ]
  },
  {
   "cell_type": "code",
   "execution_count": null,
   "metadata": {},
   "outputs": [],
   "source": [
    "# print summaries\n",
    "print(data) # tensor shapes\n",
    "\n",
    "print(data.edge_index) # connectivity\n",
    "print(data.x) # node features\n",
    "\n",
    "print(f'Number of nodes: {data.num_nodes}')\n",
    "print(f'Number of edges: {data.num_edges}')\n",
    "print(f'Number of node features: {data.num_node_features}')\n",
    "print(f'Number of edge features: {data.num_edge_features}')\n",
    "\n",
    "print(f'Has isolated nodes: {data.has_isolated_nodes()}')\n",
    "print(f'Has self loops: {data.has_self_loops()}')\n",
    "print(f'Is directed: {data.is_directed()}')"
   ]
  },
  {
   "cell_type": "code",
   "execution_count": null,
   "metadata": {},
   "outputs": [],
   "source": [
    "# validate the correctness of the data\n",
    "data.validate(raise_on_error=True)"
   ]
  },
  {
   "cell_type": "markdown",
   "metadata": {},
   "source": [
    "## Karate club\n",
    "\n",
    "<img src=\"https://upload.wikimedia.org/wikipedia/en/8/87/Zachary_karate_club_social_network.png\" alt=\"A simple graph is shown\" title=\"Simple graph\" width=\"500\">"
   ]
  },
  {
   "cell_type": "code",
   "execution_count": null,
   "metadata": {},
   "outputs": [],
   "source": [
    "# load small dataset with dummy node features and node labels\n",
    "data_set = datasets.KarateClub()"
   ]
  },
  {
   "cell_type": "code",
   "execution_count": null,
   "metadata": {},
   "outputs": [],
   "source": [
    "# print summaries\n",
    "print(f'Number of train data: {len(data_set)}')\n",
    "print(f'Dataset tensor shapes: {data_set[0]}')\n",
    "\n",
    "print(f'Number of features: {data_set.num_features}')\n",
    "print(f'Number of classes: {data_set.num_classes}')"
   ]
  },
  {
   "cell_type": "code",
   "execution_count": null,
   "metadata": {},
   "outputs": [],
   "source": [
    "# print (dummy) node features\n",
    "print(data_set.x.shape)\n",
    "print(data_set.x)"
   ]
  },
  {
   "cell_type": "code",
   "execution_count": null,
   "metadata": {},
   "outputs": [],
   "source": [
    "# print node labels\n",
    "print(data_set.y.shape)\n",
    "print(data_set.y)"
   ]
  },
  {
   "cell_type": "code",
   "execution_count": null,
   "metadata": {},
   "outputs": [],
   "source": [
    "# print graph connectivity\n",
    "print(data_set.edge_index.shape)\n",
    "print(data_set.edge_index)"
   ]
  },
  {
   "cell_type": "code",
   "execution_count": null,
   "metadata": {},
   "outputs": [],
   "source": [
    "# print adjacency matrix\n",
    "adjacency_mat = to_dense_adj(data_set.edge_index)\n",
    "adjacency_mat = adjacency_mat[0].int()\n",
    "\n",
    "print(adjacency_mat.shape)\n",
    "print(adjacency_mat)"
   ]
  },
  {
   "cell_type": "code",
   "execution_count": null,
   "metadata": {},
   "outputs": [],
   "source": [
    "# print training mask\n",
    "print(data_set.train_mask.shape)\n",
    "print(data_set.train_mask)"
   ]
  },
  {
   "cell_type": "code",
   "execution_count": null,
   "metadata": {},
   "outputs": [],
   "source": [
    "# plot graph\n",
    "fig, ax = plt.subplots(figsize=(6, 5))\n",
    "nx.draw_networkx(\n",
    "    G=to_networkx(data_set[0], to_undirected=True),\n",
    "    with_labels=True,\n",
    "    node_color=data_set[0].y,\n",
    "    cmap='Set2',\n",
    "    node_size=400,\n",
    "    edge_color='gray',\n",
    "    font_color='w',\n",
    "    ax=ax\n",
    ")\n",
    "ax.set_axis_off()"
   ]
  }
 ],
 "metadata": {
  "kernelspec": {
   "display_name": "graph",
   "language": "python",
   "name": "python3"
  },
  "language_info": {
   "codemirror_mode": {
    "name": "ipython",
    "version": 3
   },
   "file_extension": ".py",
   "mimetype": "text/x-python",
   "name": "python",
   "nbconvert_exporter": "python",
   "pygments_lexer": "ipython3",
   "version": "3.12.3"
  }
 },
 "nbformat": 4,
 "nbformat_minor": 2
}
