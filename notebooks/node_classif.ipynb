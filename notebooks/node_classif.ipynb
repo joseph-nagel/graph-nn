{
 "cells": [
  {
   "cell_type": "markdown",
   "metadata": {},
   "source": [
    "# Node classification"
   ]
  },
  {
   "cell_type": "code",
   "execution_count": null,
   "metadata": {},
   "outputs": [],
   "source": [
    "%load_ext autoreload\n",
    "%autoreload 2\n",
    "%matplotlib inline\n",
    "\n",
    "import sys\n",
    "sys.path.append('..')"
   ]
  },
  {
   "cell_type": "code",
   "execution_count": null,
   "metadata": {},
   "outputs": [],
   "source": [
    "import torch\n",
    "import torch.nn as nn\n",
    "from torch_geometric import datasets, transforms\n",
    "\n",
    "from utils import (\n",
    "    GCNModel,\n",
    "    train_node_level,\n",
    "    plot_training_curves\n",
    ")"
   ]
  },
  {
   "cell_type": "code",
   "execution_count": null,
   "metadata": {},
   "outputs": [],
   "source": [
    "# set random seed\n",
    "_ = torch.manual_seed(12345)"
   ]
  },
  {
   "cell_type": "markdown",
   "metadata": {},
   "source": [
    "## Dataset"
   ]
  },
  {
   "cell_type": "code",
   "execution_count": null,
   "metadata": {},
   "outputs": [],
   "source": [
    "# load dataset with node features and node labels\n",
    "data_set = datasets.Planetoid(\n",
    "    root='../data',\n",
    "    name='Cora'\n",
    "    # transform=transforms.NormalizeFeatures(attrs=['x']) # normalize rows\n",
    ")"
   ]
  },
  {
   "cell_type": "code",
   "execution_count": null,
   "metadata": {},
   "outputs": [],
   "source": [
    "# print summaries\n",
    "print(f'Number of graphs: {len(data_set)}')\n",
    "print(f'Number of node features: {data_set.num_features}')\n",
    "print(f'Number of node classes: {data_set.num_classes}')\n",
    "\n",
    "print(f'\\nNumber of train nodes: {data_set.train_mask.sum()}')\n",
    "print(f'Number of val. nodes: {data_set.val_mask.sum()}')\n",
    "print(f'Number of test nodes: {data_set.test_mask.sum()}')\n",
    "\n",
    "print(f'\\nTensor shapes:\\n{data_set[0]}')\n",
    "print(f'Features shape: {data_set[0].x.shape}') # (num_nodes, num_features)\n",
    "print(f'Targets shape: {data_set[0].y.shape}') # (num_nodes,)"
   ]
  },
  {
   "cell_type": "markdown",
   "metadata": {},
   "source": [
    "## Model"
   ]
  },
  {
   "cell_type": "code",
   "execution_count": null,
   "metadata": {},
   "outputs": [],
   "source": [
    "# create model\n",
    "model = GCNModel(\n",
    "    # num_channels=[data_set.num_features, 128, data_set.num_classes],\n",
    "    num_channels=[data_set.num_features, 128, 16],\n",
    "    num_features=data_set.num_classes\n",
    ")"
   ]
  },
  {
   "cell_type": "code",
   "execution_count": null,
   "metadata": {},
   "outputs": [],
   "source": [
    "# check output shape\n",
    "y = model(data_set[0].x, data_set[0].edge_index)\n",
    "\n",
    "print(f'Node features shape: {data_set[0].x.shape}') # (num_nodes, num_features)\n",
    "print(f'Prediction shape: {y.shape}') # (num_nodes, num_classes)"
   ]
  },
  {
   "cell_type": "markdown",
   "metadata": {},
   "source": [
    "## Training"
   ]
  },
  {
   "cell_type": "code",
   "execution_count": null,
   "metadata": {},
   "outputs": [],
   "source": [
    "# determine device\n",
    "device = torch.device('cuda:0' if torch.cuda.is_available() else 'cpu')\n",
    "model = model.to(device)"
   ]
  },
  {
   "cell_type": "code",
   "execution_count": null,
   "metadata": {},
   "outputs": [],
   "source": [
    "# create loss function\n",
    "criterion = nn.CrossEntropyLoss(reduction='mean')\n",
    "\n",
    "# initialize optimizer\n",
    "optimizer = torch.optim.Adam(\n",
    "    model.parameters(),\n",
    "    lr=0.01,\n",
    "    weight_decay=0.01\n",
    ")"
   ]
  },
  {
   "cell_type": "code",
   "execution_count": null,
   "metadata": {},
   "outputs": [],
   "source": [
    "# run training\n",
    "history = train_node_level(\n",
    "    data=data_set[0],\n",
    "    model=model,\n",
    "    criterion=criterion,\n",
    "    optimizer=optimizer,\n",
    "    num_epochs=200,\n",
    "    log_every=1\n",
    ")"
   ]
  },
  {
   "cell_type": "code",
   "execution_count": null,
   "metadata": {},
   "outputs": [],
   "source": [
    "# plot learning curves\n",
    "fig, axes = plot_training_curves(history, figsize=(9, 3.5))"
   ]
  }
 ],
 "metadata": {
  "kernelspec": {
   "display_name": "graph",
   "language": "python",
   "name": "python3"
  },
  "language_info": {
   "codemirror_mode": {
    "name": "ipython",
    "version": 3
   },
   "file_extension": ".py",
   "mimetype": "text/x-python",
   "name": "python",
   "nbconvert_exporter": "python",
   "pygments_lexer": "ipython3",
   "version": "3.12.4"
  }
 },
 "nbformat": 4,
 "nbformat_minor": 2
}
