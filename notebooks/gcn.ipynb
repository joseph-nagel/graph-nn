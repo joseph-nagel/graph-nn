{
 "cells": [
  {
   "cell_type": "markdown",
   "metadata": {},
   "source": [
    "# Graph convolutional network"
   ]
  },
  {
   "cell_type": "code",
   "execution_count": null,
   "metadata": {},
   "outputs": [],
   "source": [
    "%load_ext autoreload\n",
    "%autoreload 2\n",
    "%matplotlib inline\n",
    "\n",
    "import sys\n",
    "sys.path.append('..')"
   ]
  },
  {
   "cell_type": "code",
   "execution_count": null,
   "metadata": {},
   "outputs": [],
   "source": [
    "import matplotlib.pyplot as plt\n",
    "import numpy as np\n",
    "import torch\n",
    "import torch.nn as nn\n",
    "from torch_geometric import datasets, transforms\n",
    "\n",
    "from gutils import GCNNodeClassifier, train"
   ]
  },
  {
   "cell_type": "markdown",
   "metadata": {},
   "source": [
    "## Dataset"
   ]
  },
  {
   "cell_type": "code",
   "execution_count": null,
   "metadata": {},
   "outputs": [],
   "source": [
    "# load dataset with node features and node labels\n",
    "data_set = datasets.Planetoid(\n",
    "    root='../data',\n",
    "    name='Cora',\n",
    "    # transform=transforms.NormalizeFeatures(attrs=['x']) # normalize rows\n",
    ")"
   ]
  },
  {
   "cell_type": "code",
   "execution_count": null,
   "metadata": {},
   "outputs": [],
   "source": [
    "# print summaries\n",
    "print(f'Number of data points: {len(data_set)}')\n",
    "print(f'Tensor shapes: {data_set[0]}')\n",
    "\n",
    "print(f'Number of features: {data_set.num_features}')\n",
    "print(f'Number of classes: {data_set.num_classes}')\n",
    "\n",
    "print(f'Number of train nodes: {data_set.train_mask.sum()}')\n",
    "print(f'Number of val. nodes: {data_set.val_mask.sum()}')\n",
    "print(f'Number of test nodes: {data_set.test_mask.sum()}')"
   ]
  },
  {
   "cell_type": "markdown",
   "metadata": {},
   "source": [
    "## Model"
   ]
  },
  {
   "cell_type": "code",
   "execution_count": null,
   "metadata": {},
   "outputs": [],
   "source": [
    "# create model\n",
    "model = GCNNodeClassifier(\n",
    "    # num_channels=[data_set.num_features, 128, data_set.num_classes],\n",
    "    num_channels=[data_set.num_features, 64],\n",
    "    num_classes=data_set.num_classes\n",
    ")"
   ]
  },
  {
   "cell_type": "code",
   "execution_count": null,
   "metadata": {},
   "outputs": [],
   "source": [
    "# check output shape\n",
    "y = model(data_set[0].x, data_set[0].edge_index)\n",
    "\n",
    "print(f'Prediction shape: {y.shape}')"
   ]
  },
  {
   "cell_type": "markdown",
   "metadata": {},
   "source": [
    "## Training"
   ]
  },
  {
   "cell_type": "code",
   "execution_count": null,
   "metadata": {},
   "outputs": [],
   "source": [
    "criterion = nn.CrossEntropyLoss(reduction='mean')\n",
    "\n",
    "optimizer = torch.optim.Adam(\n",
    "    model.parameters(),\n",
    "    lr=0.01,\n",
    "    weight_decay=0.01\n",
    ")"
   ]
  },
  {
   "cell_type": "code",
   "execution_count": null,
   "metadata": {},
   "outputs": [],
   "source": [
    "history = train(\n",
    "    data=data_set[0],\n",
    "    model=model,\n",
    "    criterion=criterion,\n",
    "    optimizer=optimizer,\n",
    "    num_epochs=200,\n",
    "    log_every=1\n",
    ")"
   ]
  },
  {
   "cell_type": "code",
   "execution_count": null,
   "metadata": {},
   "outputs": [],
   "source": [
    "fig, axes = plt.subplots(nrows=1, ncols=2, figsize=(9, 3.5))\n",
    "\n",
    "axes[0].plot(\n",
    "    np.arange(history['num_epochs'] + 1),\n",
    "    np.asarray(history['train_loss']),\n",
    "    label='train', alpha=0.7\n",
    ")\n",
    "axes[0].plot(\n",
    "    np.arange(history['num_epochs'] + 1),\n",
    "    np.asarray(history['val_loss']),\n",
    "    label='val.', alpha=0.7\n",
    ")\n",
    "axes[0].set(xlabel='epoch', ylabel='loss')\n",
    "\n",
    "axes[1].plot(\n",
    "    np.arange(history['num_epochs'] + 1),\n",
    "    np.asarray(history['train_acc']),\n",
    "    label='train', alpha=0.7\n",
    ")\n",
    "axes[1].plot(\n",
    "    np.arange(history['num_epochs'] + 1),\n",
    "    np.asarray(history['val_acc']),\n",
    "    label='val.', alpha=0.7\n",
    ")\n",
    "axes[1].set(xlabel='epoch', ylabel='acc.')\n",
    "axes[1].yaxis.set_label_position('right')\n",
    "axes[1].yaxis.tick_right()\n",
    "\n",
    "for ax in axes:\n",
    "    ax.set_xlim((0, history['num_epochs']))\n",
    "    ax.legend()\n",
    "    ax.grid(visible=True, which='both', color='lightgray', linestyle='-')\n",
    "    ax.set_axisbelow(True)\n",
    "\n",
    "fig.tight_layout()"
   ]
  }
 ],
 "metadata": {
  "kernelspec": {
   "display_name": "graph",
   "language": "python",
   "name": "python3"
  },
  "language_info": {
   "codemirror_mode": {
    "name": "ipython",
    "version": 3
   },
   "file_extension": ".py",
   "mimetype": "text/x-python",
   "name": "python",
   "nbconvert_exporter": "python",
   "pygments_lexer": "ipython3",
   "version": "3.12.3"
  }
 },
 "nbformat": 4,
 "nbformat_minor": 2
}
