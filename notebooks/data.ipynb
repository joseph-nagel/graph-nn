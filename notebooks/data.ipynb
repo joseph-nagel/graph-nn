{
 "cells": [
  {
   "cell_type": "markdown",
   "metadata": {},
   "source": [
    "# Graph data"
   ]
  },
  {
   "cell_type": "code",
   "execution_count": null,
   "metadata": {},
   "outputs": [],
   "source": [
    "%load_ext autoreload\n",
    "%autoreload 2\n",
    "%matplotlib inline\n",
    "\n",
    "import sys\n",
    "sys.path.append('..')"
   ]
  },
  {
   "cell_type": "code",
   "execution_count": null,
   "metadata": {},
   "outputs": [],
   "source": [
    "import torch\n",
    "from torch_geometric.data import Data"
   ]
  },
  {
   "cell_type": "markdown",
   "metadata": {},
   "source": [
    "## Simple graph\n",
    "\n",
    "<img src=\"https://pytorch-geometric.readthedocs.io/en/latest/_images/graph.svg\" alt=\"THe graph is shown\" title=\"Graph\" style=\"background-color: white\">"
   ]
  },
  {
   "cell_type": "code",
   "execution_count": null,
   "metadata": {},
   "outputs": [],
   "source": [
    "# create graph connectivity\n",
    "edge_index = torch.tensor(\n",
    "    [[0, 1, 1, 2],\n",
    "     [1, 0, 2, 1]],\n",
    "     dtype=torch.int64\n",
    ")\n",
    "\n",
    "# create node features\n",
    "x = torch.tensor(\n",
    "    [[-1],\n",
    "     [0],\n",
    "     [1]\n",
    "    ],\n",
    "    dtype=torch.float32\n",
    ")\n",
    "\n",
    "# create graph data object\n",
    "data = Data(x=x, edge_index=edge_index)"
   ]
  },
  {
   "cell_type": "code",
   "execution_count": null,
   "metadata": {},
   "outputs": [],
   "source": [
    "# print summaries\n",
    "print(data) # tensor shapes\n",
    "print(data.edge_index) # connectivity\n",
    "print(data.x) # node features\n",
    "\n",
    "print(f'Number of nodes: {data.num_nodes}')\n",
    "print(f'Number of edges: {data.num_edges}')\n",
    "print(f'Number of node features: {data.num_node_features}')\n",
    "print(f'Number of edge features: {data.num_edge_features}')\n",
    "print(f'Has isolated nodes: {data.has_isolated_nodes()}')\n",
    "print(f'Has self loops: {data.has_self_loops()}')\n",
    "print(f'Is directed: {data.is_directed()}')"
   ]
  },
  {
   "cell_type": "code",
   "execution_count": null,
   "metadata": {},
   "outputs": [],
   "source": [
    "# validate the correctness of the data\n",
    "data.validate(raise_on_error=True)"
   ]
  }
 ],
 "metadata": {
  "kernelspec": {
   "display_name": "graph",
   "language": "python",
   "name": "python3"
  },
  "language_info": {
   "codemirror_mode": {
    "name": "ipython",
    "version": 3
   },
   "file_extension": ".py",
   "mimetype": "text/x-python",
   "name": "python",
   "nbconvert_exporter": "python",
   "pygments_lexer": "ipython3",
   "version": "3.12.3"
  }
 },
 "nbformat": 4,
 "nbformat_minor": 2
}
